{
  "nbformat": 4,
  "nbformat_minor": 0,
  "metadata": {
    "kernelspec": {
      "name": "python3",
      "display_name": "Python 3"
    },
    "language_info": {
      "codemirror_mode": {
        "name": "ipython",
        "version": 3
      },
      "file_extension": ".py",
      "mimetype": "text/x-python",
      "name": "python",
      "nbconvert_exporter": "python",
      "pygments_lexer": "ipython3",
      "version": "3.6.6"
    },
    "colab": {
      "name": "flower_class.ipynb",
      "provenance": [],
      "collapsed_sections": []
    },
    "accelerator": "GPU"
  },
  "cells": [
    {
      "cell_type": "code",
      "metadata": {
        "id": "DiTqxi6xeHeG",
        "colab_type": "code",
        "colab": {}
      },
      "source": [
        "import tensorflow as tf\n",
        "from tensorflow.keras.applications.resnet50 import preprocess_input\n",
        "from tensorflow.keras.applications import ResNet50 as resnet"
      ],
      "execution_count": 0,
      "outputs": []
    },
    {
      "cell_type": "code",
      "metadata": {
        "jupyter": {
          "source_hidden": true
        },
        "id": "T958JYInd1l6",
        "colab_type": "code",
        "colab": {}
      },
      "source": [
        "import cv2\n",
        "import os\n",
        "import pathlib\n",
        "\n",
        "import numpy as np\n",
        "import pandas as pd\n",
        "import matplotlib.pyplot as plt\n",
        "import itertools\n",
        "from sklearn.metrics import confusion_matrix\n",
        "\n",
        "from tensorflow.keras.preprocessing.image import ImageDataGenerator\n",
        "from tensorflow.keras.models import Sequential, Model\n",
        "from tensorflow.keras.layers import Activation, Dropout,Flatten,Conv2D,MaxPool2D,Dense, BatchNormalization, Input, AveragePooling2D\n",
        "from tensorflow.keras.preprocessing import image\n",
        "from tensorflow.keras.optimizers import Adam\n",
        "from mlxtend.plotting import plot_confusion_matrix\n",
        "\n",
        "%matplotlib inline"
      ],
      "execution_count": 0,
      "outputs": []
    },
    {
      "cell_type": "code",
      "metadata": {
        "id": "y6MX2J75eaOK",
        "colab_type": "code",
        "outputId": "1ca8d671-ede1-4c5b-f524-7e75dda866a5",
        "colab": {
          "base_uri": "https://localhost:8080/",
          "height": 158
        }
      },
      "source": [
        "! git clone https://github.com/AnnaFilipov93/flowers-analyzer"
      ],
      "execution_count": 3,
      "outputs": [
        {
          "output_type": "stream",
          "text": [
            "Cloning into 'flowers-analyzer'...\n",
            "remote: Enumerating objects: 1420, done.\u001b[K\n",
            "remote: Counting objects: 100% (1420/1420), done.\u001b[K\n",
            "remote: Compressing objects: 100% (1417/1417), done.\u001b[K\n",
            "remote: Total 5838 (delta 3), reused 1412 (delta 3), pack-reused 4418\u001b[K\n",
            "Receiving objects: 100% (5838/5838), 474.93 MiB | 33.33 MiB/s, done.\n",
            "Resolving deltas: 100% (25/25), done.\n",
            "Checking out files: 100% (5216/5216), done.\n"
          ],
          "name": "stdout"
        }
      ]
    },
    {
      "cell_type": "code",
      "metadata": {
        "id": "2M8qYxTgHkWP",
        "colab_type": "code",
        "colab": {}
      },
      "source": [
        "BATCH_SIZE=32\n",
        "STEP=4154 // BATCH_SIZE\n",
        "VALID_STEPS=1050  // BATCH_SIZE\n",
        "SHAPE = (224,224)\n",
        "INIT_LR = 1e-4"
      ],
      "execution_count": 0,
      "outputs": []
    },
    {
      "cell_type": "code",
      "metadata": {
        "id": "OhH7EPmId1mA",
        "colab_type": "code",
        "colab": {}
      },
      "source": [
        "#prepering the data\n",
        "train_image_gen=ImageDataGenerator(rotation_range=25,\n",
        "\tzoom_range=0.1,\n",
        "\twidth_shift_range=0.1,\n",
        "\theight_shift_range=0.1,\n",
        "\tshear_range=0.2,\n",
        "\thorizontal_flip=True,\n",
        "\tfill_mode=\"nearest\")\n",
        "\n",
        "val_image_gen=ImageDataGenerator(rescale=1./255)\n"
      ],
      "execution_count": 0,
      "outputs": []
    },
    {
      "cell_type": "code",
      "metadata": {
        "id": "S6uavVh9zqww",
        "colab_type": "code",
        "outputId": "63eae387-54ac-4892-8f09-ad1e1f3dd74a",
        "colab": {
          "base_uri": "https://localhost:8080/",
          "height": 52
        }
      },
      "source": [
        "##~~reading the data ~~##\n",
        "train_dir=os.path.join(os.getcwd(), 'flowers-analyzer/flowers/train')\n",
        "test_dir=os.path.join(os.getcwd(), 'flowers-analyzer/flowers/test')\n",
        "\n",
        "train_img=train_image_gen.flow_from_directory(train_dir,\n",
        "                                         target_size=SHAPE, batch_size=BATCH_SIZE,\n",
        "                                       class_mode='categorical')\n",
        "\n",
        "\n",
        "test_img=train_image_gen.flow_from_directory(test_dir,\n",
        "                                       target_size=SHAPE, batch_size=BATCH_SIZE, \n",
        "                                        class_mode='categorical')\n"
      ],
      "execution_count": 6,
      "outputs": [
        {
          "output_type": "stream",
          "text": [
            "Found 4154 images belonging to 6 classes.\n",
            "Found 1050 images belonging to 6 classes.\n"
          ],
          "name": "stdout"
        }
      ]
    },
    {
      "cell_type": "code",
      "metadata": {
        "id": "9qWFr-fmaNQz",
        "colab_type": "code",
        "outputId": "f8cbea25-6346-4b7b-d6bf-73d190d0c822",
        "colab": {
          "base_uri": "https://localhost:8080/",
          "height": 52
        }
      },
      "source": [
        "baseModel = resnet(weights=\"imagenet\", include_top=False,\n",
        "\tinput_tensor=Input(shape=(224, 224, 3)))"
      ],
      "execution_count": 7,
      "outputs": [
        {
          "output_type": "stream",
          "text": [
            "Downloading data from https://storage.googleapis.com/tensorflow/keras-applications/resnet/resnet50_weights_tf_dim_ordering_tf_kernels_notop.h5\n",
            "94773248/94765736 [==============================] - 1s 0us/step\n"
          ],
          "name": "stdout"
        }
      ]
    },
    {
      "cell_type": "code",
      "metadata": {
        "id": "ngd5GdlFaaGX",
        "colab_type": "code",
        "colab": {}
      },
      "source": [
        "headModel = baseModel.output\n",
        "headModel = AveragePooling2D(pool_size=(7, 7))(headModel)\n",
        "headModel = Flatten(name=\"flatten\")(headModel)\n",
        "headModel = Dense(256, activation=\"relu\")(headModel)\n",
        "headModel = Dropout(0.5)(headModel)\n",
        "headModel = Dense(6, activation=\"softmax\")(headModel)\n"
      ],
      "execution_count": 0,
      "outputs": []
    },
    {
      "cell_type": "code",
      "metadata": {
        "id": "Kf3ASTUvaaPy",
        "colab_type": "code",
        "colab": {}
      },
      "source": [
        "model = Model(inputs=baseModel.input, outputs=headModel)"
      ],
      "execution_count": 0,
      "outputs": []
    },
    {
      "cell_type": "code",
      "metadata": {
        "id": "qLgc8KO5brZ6",
        "colab_type": "code",
        "colab": {}
      },
      "source": [
        "for layer in baseModel.layers:\n",
        "\tlayer.trainable = False"
      ],
      "execution_count": 0,
      "outputs": []
    },
    {
      "cell_type": "code",
      "metadata": {
        "id": "0G4OtTAnbtTo",
        "colab_type": "code",
        "outputId": "35f2e86a-d647-4847-d259-fa53ae9c8738",
        "colab": {
          "base_uri": "https://localhost:8080/",
          "height": 369
        }
      },
      "source": [
        "opt = Adam(lr=INIT_LR, decay=INIT_LR / 10)\n",
        "#before manual opt - acc - 95% | val acc - 85% | 20 epochs\n",
        "#after acc - 88% | val acc - 85% | 10 epochs\n",
        "model.compile(optimizer=opt, loss='categorical_crossentropy', metrics=['accuracy'])\n",
        "\n",
        "history = model.fit(\n",
        "    train_img,epochs=10, steps_per_epoch=STEP,\n",
        "    validation_data=test_img, validation_steps=VALID_STEPS)"
      ],
      "execution_count": 13,
      "outputs": [
        {
          "output_type": "stream",
          "text": [
            "Epoch 1/10\n",
            "129/129 [==============================] - 88s 684ms/step - loss: 0.5985 - accuracy: 0.7831 - val_loss: 0.3511 - val_accuracy: 0.8711\n",
            "Epoch 2/10\n",
            "129/129 [==============================] - 85s 657ms/step - loss: 0.4693 - accuracy: 0.8304 - val_loss: 0.3014 - val_accuracy: 0.9014\n",
            "Epoch 3/10\n",
            "129/129 [==============================] - 86s 668ms/step - loss: 0.4165 - accuracy: 0.8493 - val_loss: 0.2926 - val_accuracy: 0.9023\n",
            "Epoch 4/10\n",
            "129/129 [==============================] - 88s 684ms/step - loss: 0.3752 - accuracy: 0.8680 - val_loss: 0.2670 - val_accuracy: 0.9150\n",
            "Epoch 5/10\n",
            "129/129 [==============================] - 86s 664ms/step - loss: 0.3324 - accuracy: 0.8787 - val_loss: 0.2551 - val_accuracy: 0.9072\n",
            "Epoch 6/10\n",
            "129/129 [==============================] - 86s 664ms/step - loss: 0.3133 - accuracy: 0.8862 - val_loss: 0.2751 - val_accuracy: 0.9043\n",
            "Epoch 7/10\n",
            "129/129 [==============================] - 88s 678ms/step - loss: 0.3026 - accuracy: 0.8962 - val_loss: 0.2740 - val_accuracy: 0.9014\n",
            "Epoch 8/10\n",
            "129/129 [==============================] - 86s 664ms/step - loss: 0.2626 - accuracy: 0.9037 - val_loss: 0.2609 - val_accuracy: 0.9082\n",
            "Epoch 9/10\n",
            "129/129 [==============================] - 84s 654ms/step - loss: 0.2678 - accuracy: 0.9027 - val_loss: 0.2510 - val_accuracy: 0.9102\n",
            "Epoch 10/10\n",
            "129/129 [==============================] - 87s 672ms/step - loss: 0.2539 - accuracy: 0.9061 - val_loss: 0.2576 - val_accuracy: 0.9121\n"
          ],
          "name": "stdout"
        }
      ]
    },
    {
      "cell_type": "code",
      "metadata": {
        "id": "aVJEfSAZd1mS",
        "colab_type": "code",
        "colab": {}
      },
      "source": [
        "model.save('fine_tuned_resnet50_classifier.h5')"
      ],
      "execution_count": 0,
      "outputs": []
    },
    {
      "cell_type": "code",
      "metadata": {
        "id": "yT4SyP-K1s8E",
        "colab_type": "code",
        "outputId": "89855fdc-368e-48be-f8d4-2ab8d760cceb",
        "colab": {
          "base_uri": "https://localhost:8080/",
          "height": 231
        }
      },
      "source": [
        "labels = train_img.class_indices\n",
        "Y_pred = model.predict_generator(test_img,STEP)\n",
        "y_pred = np.argmax(Y_pred, axis=1)\n",
        "print(labels)\n",
        "print(confusion_matrix(test_img.classes,y_pred))\n"
      ],
      "execution_count": 15,
      "outputs": [
        {
          "output_type": "stream",
          "text": [
            "WARNING:tensorflow:From <ipython-input-15-6d26981d763e>:2: Model.predict_generator (from tensorflow.python.keras.engine.training) is deprecated and will be removed in a future version.\n",
            "Instructions for updating:\n",
            "Please use Model.predict, which supports generators.\n",
            "WARNING:tensorflow:Your input ran out of data; interrupting training. Make sure that your dataset or generator can generate at least `steps_per_epoch * epochs` batches (in this case, 129 batches). You may need to use the repeat() function when building your dataset.\n",
            "{'daisy': 0, 'dandelion': 1, 'iris': 2, 'rose': 3, 'sunflower': 4, 'tulip': 5}\n",
            "[[24 48 27 31 19 26]\n",
            " [27 21 42 30 30 25]\n",
            " [27 28 38 24 28 30]\n",
            " [44 18 30 33 19 31]\n",
            " [31 24 32 22 38 28]\n",
            " [31 27 29 25 31 32]]\n"
          ],
          "name": "stdout"
        }
      ]
    },
    {
      "cell_type": "code",
      "metadata": {
        "id": "yw4088qdSrb3",
        "colab_type": "code",
        "outputId": "7d156f77-0739-4311-936e-1c99e81f2852",
        "colab": {
          "base_uri": "https://localhost:8080/",
          "height": 423
        }
      },
      "source": [
        "\n",
        "mat=confusion_matrix(test_img.classes,y_pred)\n",
        "plot_confusion_matrix(conf_mat=mat,figsize=(6,6))"
      ],
      "execution_count": 17,
      "outputs": [
        {
          "output_type": "execute_result",
          "data": {
            "text/plain": [
              "(<Figure size 432x432 with 1 Axes>,\n",
              " <matplotlib.axes._subplots.AxesSubplot at 0x7fae87185c18>)"
            ]
          },
          "metadata": {
            "tags": []
          },
          "execution_count": 17
        },
        {
          "output_type": "display_data",
          "data": {
            "image/png": "[encoded data removed]",
            "text/plain": [
              "<Figure size 432x432 with 1 Axes>"
            ]
          },
          "metadata": {
            "tags": [],
            "needs_background": "light"
          }
        }
      ]
    },
    {
      "cell_type": "code",
      "metadata": {
        "id": "pzCNRrcG0CpZ",
        "colab_type": "code",
        "colab": {}
      },
      "source": [
        "# In case the model pre-trained\n",
        "model=load_model('five_flowers_model.h5')"
      ],
      "execution_count": 0,
      "outputs": []
    },
    {
      "cell_type": "markdown",
      "metadata": {
        "id": "JayCE7EQOGax",
        "colab_type": "text"
      },
      "source": [
        "----------------------------------------------------------- NOT FINE TUNED RESNET BELOW ------------------------------------------------------------------------"
      ]
    },
    {
      "cell_type": "code",
      "metadata": {
        "id": "eZOzIIJPcIRP",
        "colab_type": "code",
        "colab": {}
      },
      "source": [
        "def resnet50_train():\n",
        "    model = Sequential()\n",
        "\n",
        "    model.add(resnet(include_top=False, pooling='avg', weights='imagenet'))\n",
        "    model.add(Flatten())\n",
        "    model.add(BatchNormalization())\n",
        "    model.add(Dense(2048, activation='relu'))\n",
        "    model.add(BatchNormalization())\n",
        "    model.add(Dense(1024, activation='relu'))\n",
        "    model.add(BatchNormalization())\n",
        "    model.add(Dense(5, activation='softmax'))\n",
        "\n",
        "    model.layers[0].trainable = False\n",
        "    \n",
        "    model.compile(optimizer='adam', loss='categorical_crossentropy', metrics=['accuracy'])\n",
        "\n",
        "    model.fit_generator(\n",
        "        train_img,epochs=20, steps_per_epoch=STEP,\n",
        "        validation_data=test_img, validation_steps=VALID_STEPS)\n",
        "\n",
        "    return model\n"
      ],
      "execution_count": 0,
      "outputs": []
    },
    {
      "cell_type": "code",
      "metadata": {
        "id": "RIeLqsX0JOHH",
        "colab_type": "code",
        "colab": {}
      },
      "source": [
        "model = resnet50_train()"
      ],
      "execution_count": 0,
      "outputs": []
    },
    {
      "cell_type": "markdown",
      "metadata": {
        "id": "66HvBmAUAt2M",
        "colab_type": "text"
      },
      "source": [
        "----- WITH BIAS : loss: 0.3830 - accuracy: 0.8700 - val_loss: 0.6431 - val_accuracy: 0.8012\n",
        "----- WITHOUT BIAS : loss: 0.4067 - accuracy: 0.8603 - val_loss: 0.6585 - val_accuracy: 0.8000"
      ]
    },
    {
      "cell_type": "code",
      "metadata": {
        "id": "gV9NV7w-Fy0L",
        "colab_type": "code",
        "colab": {}
      },
      "source": [
        "from IPython.display import Image, display\n",
        "\n",
        "import os, random\n",
        "from tensorflow.python.keras.preprocessing.image import load_img, img_to_array\n",
        "img_locations = []\n",
        "for d in os.listdir(\"flowers-analyzer/flowers/FLOWERS/test/\"):\n",
        "    directory = \"flowers-analyzer/flowers/FLOWERS/test/\" + d\n",
        "    sample = [directory + '/' + s for s in random.sample(\n",
        "        os.listdir(directory), int(random.random()*10))]\n",
        "    img_locations += sample"
      ],
      "execution_count": 0,
      "outputs": []
    },
    {
      "cell_type": "code",
      "metadata": {
        "id": "zvC1JXHCF2uj",
        "colab_type": "code",
        "colab": {}
      },
      "source": [
        "def read_and_prep_images(img_paths, img_height=224, img_width=224):\n",
        "    imgs = [load_img(img_path, target_size=(224, 224)) for img_path in img_paths]\n",
        "    img_array = np.array([img_to_array(img) for img in imgs])\n",
        "    return preprocess_input(img_array)\n",
        "\n",
        "random.shuffle(img_locations)\n",
        "imgs = read_and_prep_images(img_locations)\n",
        "predictions = model.predict_classes(imgs)\n",
        "classes = dict((v,k) for k,v in train_img.class_indices.items())\n",
        "\n",
        "for img, prediction in zip(img_locations, predictions):\n",
        "    display(Image(img))\n",
        "    print(classes[prediction])"
      ],
      "execution_count": 0,
      "outputs": []
    },
    {
      "cell_type": "code",
      "metadata": {
        "id": "3vR3-tdmd1mE",
        "colab_type": "code",
        "colab": {}
      },
      "source": [
        "'''def train_model():\n",
        "    ###~~~building the model~~~###\n",
        "\n",
        "    model=Sequential()\n",
        "\n",
        "    #conv layer I\n",
        "    model.add(Conv2D(filters=32, kernel_size=(3,3), input_shape=(240,240,3),\n",
        "                    activation='relu'))\n",
        "    #pooling layer I\n",
        "    model.add(MaxPool2D(pool_size=(2,2)))\n",
        "    model.add(BatchNormalization())\n",
        "    model.add(Dropout(0.3))\n",
        "    #conv layer II\n",
        "    model.add(Conv2D(filters=64, kernel_size=(3,3),\n",
        "                    activation='relu'))\n",
        "    #pooling layer II\n",
        "    model.add(MaxPool2D(pool_size=(2,2)))\n",
        "    model.add(BatchNormalization())\n",
        "    model.add(Dropout(0.3))\n",
        "    #conv layer III\n",
        "    model.add(Conv2D(filters=64, kernel_size=(3,3),\n",
        "                    activation='relu'))\n",
        "    #pooling layer III\n",
        "    model.add(MaxPool2D(pool_size=(2,2)))\n",
        "    model.add(BatchNormalization())\n",
        "    model.add(Dropout(0.3))\n",
        "    #conv layer IV\n",
        "    model.add(Conv2D(filters=64, kernel_size=(3,3),\n",
        "                    activation='relu'))\n",
        "    #pooling layer IV\n",
        "    model.add(MaxPool2D(pool_size=(2,2)))\n",
        "    model.add(BatchNormalization())\n",
        "    model.add(Dropout(0.2))\n",
        "    #conv layer V\n",
        "    #model.add(Conv2D(filters=64, kernel_size=(3,3), input_shape=(240,240,3),\n",
        "    #                 activation='relu'))\n",
        "    #pooling layer V\n",
        "    #model.add(MaxPool2D(pool_size=(2,2)))\n",
        "\n",
        "    #conv layer VI\n",
        "    #model.add(Conv2D(filters=64, kernel_size=(3,3), input_shape=(240,240,3),\n",
        "    #                 activation='relu'))\n",
        "    #pooling layer VI\n",
        "    #model.add(MaxPool2D(pool_size=(2,2)))\n",
        "\n",
        "    #flatten\n",
        "    model.add(Flatten())\n",
        "\n",
        "    #Dense layer\n",
        "    model.add(Dense(512,activation='relu'))\n",
        "\n",
        "    #dropout layer\n",
        "    model.add(Dropout(0.5))\n",
        "    model.add(BatchNormalization())\n",
        "    #output layer\n",
        "    model.add(Dense(5,activation='softmax'))\n",
        "\n",
        "    model.summary()\n",
        "\n",
        "    #compile\n",
        "    model.compile(loss='categorical_crossentropy', optimizer='adam', metrics=['accuracy'])\n",
        "\n",
        "    ###~~~training the model~~~###\n",
        "\n",
        "    results=model.fit_generator(train_img,epochs=1, steps_per_epoch=1,\n",
        "                                validation_data=test_img, validation_steps=27)\n",
        "\n",
        "    return model'''"
      ],
      "execution_count": 0,
      "outputs": []
    },
    {
      "cell_type": "markdown",
      "metadata": {
        "id": "7ZkjwTgb0R_V",
        "colab_type": "text"
      },
      "source": [
        "---------- manual checking of the model performence ---------------"
      ]
    },
    {
      "cell_type": "code",
      "metadata": {
        "id": "FH6yArN80QQN",
        "colab_type": "code",
        "colab": {}
      },
      "source": [
        "###~~~testing on the tests images~~~###\n",
        "\n",
        "examples = ['FLOWERS//test//daisy/144076848_57e1d662e3_m.jpg',\n",
        "            'FLOWERS//test//dandelion/14740350060_a489d9fa06.jpg',\n",
        "            'FLOWERS//test/tulip/5633266048_4f4bfb2cf1_n.jpg',\n",
        "            'FLOWERS//test/sunflower/21728822928_9f6817325a_n.jpg',\n",
        "            'flowers//FLOWERS//test//rose/random_flower.jpg']\n"
      ],
      "execution_count": 0,
      "outputs": []
    },
    {
      "cell_type": "code",
      "metadata": {
        "id": "yT5YHyrBd1mW",
        "colab_type": "code",
        "colab": {}
      },
      "source": [
        "def pred (p, pred_acc):\n",
        "    if pred_acc[0,p]<0.7:\n",
        "        print(\"the model couldn't recognize it\")\n",
        "    elif p==0:\n",
        "        print(\"the model recognized it as a daisy\")\n",
        "    elif p==1:\n",
        "         print(\"the model recognized it as a dandelion\")\n",
        "    elif p==2:\n",
        "          print(\"the model recognized it as a rose\")\n",
        "    elif p==3:\n",
        "          print(\"the model recognized it as a sunflower\")       \n",
        "    elif p==4:\n",
        "          print(\"the model recognized it as a tulip\")     \n",
        "            "
      ],
      "execution_count": 0,
      "outputs": []
    },
    {
      "cell_type": "code",
      "metadata": {
        "id": "7uCaATLjEgxK",
        "colab_type": "code",
        "colab": {}
      },
      "source": [
        "def predict_flower(path):\n",
        "  flower=cv2.imread(path)\n",
        "  flower=cv2.cvtColor(flower,cv2.COLOR_BGR2RGB)\n",
        "  plt.imshow(flower)\n",
        "\n",
        "  flower_file=path\n",
        "  flower_img=image.load_img(flower_file, target_size=(240,240))\n",
        "  flower_img=image.img_to_array(flower_img)\n",
        "  flower_img=np.expand_dims(flower_img,axis=0)\n",
        "  flower_img=flower_img/255\n",
        "\n",
        "  p=model.predict_classes(flower_img)\n",
        "  pred(p)"
      ],
      "execution_count": 0,
      "outputs": []
    },
    {
      "cell_type": "code",
      "metadata": {
        "id": "I2rMYcV1BGfX",
        "colab_type": "code",
        "colab": {}
      },
      "source": [
        "def plot_confusion_matrix(cm, classes,\n",
        "                          normalize=False,\n",
        "                          title='Confusion matrix',\n",
        "                          cmap=plt.cm.Blues):\n",
        "    \"\"\"\n",
        "    This function prints and plots the confusion matrix.\n",
        "    Normalization can be applied by setting `normalize=True`.\n",
        "    \"\"\"\n",
        "    if normalize:\n",
        "        cm = cm.astype('float') / cm.sum(axis=1)[:, np.newaxis]\n",
        "        print(\"Normalized confusion matrix\")\n",
        "    else:\n",
        "        print('Confusion matrix, without normalization')\n",
        "\n",
        "    print(cm)\n",
        "\n",
        "    plt.imshow(cm, interpolation='nearest', cmap=cmap)\n",
        "    plt.title(title)\n",
        "    plt.colorbar()\n",
        "    tick_marks = np.arange(len(classes))\n",
        "    plt.xticks(tick_marks, classes, rotation=45)\n",
        "    plt.yticks(tick_marks, classes)\n",
        "\n",
        "    fmt = '.2f' if normalize else 'd'\n",
        "    thresh = cm.max() / 2.\n",
        "    for i, j in itertools.product(range(cm.shape[0]), range(cm.shape[1])):\n",
        "        plt.text(j, i, format(cm[i, j], fmt),\n",
        "                 horizontalalignment=\"center\",\n",
        "                 color=\"white\" if cm[i, j] > thresh else \"black\")\n",
        "\n",
        "    plt.ylabel('True label')\n",
        "    plt.xlabel('Predicted label')\n",
        "    plt.tight_layout()"
      ],
      "execution_count": 0,
      "outputs": []
    },
    {
      "cell_type": "code",
      "metadata": {
        "id": "dBU0bJEXJ-wA",
        "colab_type": "code",
        "colab": {}
      },
      "source": [
        ""
      ],
      "execution_count": 0,
      "outputs": []
    }
  ]
}